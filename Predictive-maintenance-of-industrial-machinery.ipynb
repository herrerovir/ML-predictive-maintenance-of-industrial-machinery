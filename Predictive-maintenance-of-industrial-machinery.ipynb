{
 "cells": [
  {
   "cell_type": "markdown",
   "metadata": {},
   "source": [
    "# Predictive maintenance of industrial machinery\n",
    "\n",
    "_by Virginia Herrero_"
   ]
  }
 ],
 "metadata": {
  "language_info": {
   "name": "python"
  }
 },
 "nbformat": 4,
 "nbformat_minor": 2
}
